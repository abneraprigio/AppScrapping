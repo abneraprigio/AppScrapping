{
  "nbformat": 4,
  "nbformat_minor": 0,
  "metadata": {
    "colab": {
      "provenance": [],
      "authorship_tag": "ABX9TyOdSK6Bx7HKWIg03VnC+Z+N",
      "include_colab_link": true
    },
    "kernelspec": {
      "name": "python3",
      "display_name": "Python 3"
    },
    "language_info": {
      "name": "python"
    }
  },
  "cells": [
    {
      "cell_type": "markdown",
      "metadata": {
        "id": "view-in-github",
        "colab_type": "text"
      },
      "source": [
        "<a href=\"https://colab.research.google.com/github/abneraprigio/AppScrapping/blob/main/Untitled13.ipynb\" target=\"_parent\"><img src=\"https://colab.research.google.com/assets/colab-badge.svg\" alt=\"Open In Colab\"/></a>"
      ]
    },
    {
      "cell_type": "code",
      "execution_count": 6,
      "metadata": {
        "colab": {
          "base_uri": "https://localhost:8080/"
        },
        "id": "Ph3E0NG7xbSl",
        "outputId": "b6763e9b-0ab4-4a5f-f643-1caa30931043"
      },
      "outputs": [
        {
          "output_type": "stream",
          "name": "stdout",
          "text": [
            "True\n",
            "False\n",
            "False\n",
            "True\n"
          ]
        }
      ],
      "source": [
        "x = \"botafogo\"\n",
        "x1 = \"flamengo\"\n",
        "x3 = \"botafogo\"\n",
        "\n",
        "xresult = x is x3\n",
        "print(xresult)\n",
        "\n",
        "xresult = x is not x3\n",
        "print(xresult)\n",
        "\n",
        "xresult = x1 is x3\n",
        "print(xresult)\n",
        "xresult = x1 is not x3\n",
        "print(xresult)"
      ]
    },
    {
      "cell_type": "code",
      "source": [
        "frutas = [\"banana\", \"laranja\", \"uva\", \"ameixa\"]\n",
        "\n",
        "fruta_1 = \"ameixa\"\n",
        "fruta_2 = \"melancia\"\n",
        "\n",
        "print(fruta_1 in frutas) #True\n",
        "print(fruta_2 in frutas) #False"
      ],
      "metadata": {
        "colab": {
          "base_uri": "https://localhost:8080/"
        },
        "id": "Xx7U7Ei8yeb7",
        "outputId": "6268b29b-ebd5-4250-c7de-5d10090cfdc3"
      },
      "execution_count": 9,
      "outputs": [
        {
          "output_type": "stream",
          "name": "stdout",
          "text": [
            "True\n",
            "False\n"
          ]
        }
      ]
    },
    {
      "cell_type": "code",
      "source": [
        "X = 4\n",
        "X1 = 9\n",
        "X2 = 5\n",
        "\n",
        "XResult = (((2 + 5) * 3) + X + 5) < X1\n",
        "print(XResult)\n",
        "\n",
        "XResult = (((2 + 5) * 3) + (X + 5 < X1) == (X == 6 + X2 * 2))\n",
        "print(XResult)\n",
        "\n",
        "XResult = (((3 * 6) + X - 3) < X2)\n",
        "print(XResult)\n",
        "\n",
        "XResult = (((7 * 8) > (X + 4 > X1) < (X != 2 + X2 * 9)))\n",
        "print(XResult)\n"
      ],
      "metadata": {
        "colab": {
          "base_uri": "https://localhost:8080/"
        },
        "id": "YASCtigBy0Ek",
        "outputId": "25c0cdbb-bf01-412c-cd59-44c03cf480e2"
      },
      "execution_count": 10,
      "outputs": [
        {
          "output_type": "stream",
          "name": "stdout",
          "text": [
            "False\n",
            "False\n",
            "False\n",
            "True\n"
          ]
        }
      ]
    },
    {
      "cell_type": "markdown",
      "source": [
        "Programa para saber idade"
      ],
      "metadata": {
        "id": "phbaUTEVKpM9"
      }
    },
    {
      "cell_type": "code",
      "source": [
        "nota1 = float(input(\"Digite a Primeira nota: \"))\n",
        "nota2 = float(input(\"Digite a Segunda nota: \"))\n",
        "\n",
        "media = (nota1 + nota2) /2\n",
        "\n",
        "if media >= 7:\n",
        "  print(\"O Aluno foi Aprovado\")\n",
        "\n",
        "\n"
      ],
      "metadata": {
        "colab": {
          "base_uri": "https://localhost:8080/"
        },
        "id": "Kc-57UD6FYBW",
        "outputId": "eec322b0-0203-4f99-8dc5-d57a12de486f"
      },
      "execution_count": 13,
      "outputs": [
        {
          "output_type": "stream",
          "name": "stdout",
          "text": [
            "Digite a Primeira nota: 30\n",
            "Digite a Segunda nota: 30\n",
            "O Aluno foi Aprovado\n"
          ]
        }
      ]
    },
    {
      "cell_type": "code",
      "source": [
        "numero = int(input(\"Digite um numero: \"))\n",
        "\n",
        "if numero >= 30:\n",
        "  print(\"O numero é maior que 30\")\n",
        "else:\n",
        "  print(\"O numero é menor que 30\")"
      ],
      "metadata": {
        "colab": {
          "base_uri": "https://localhost:8080/"
        },
        "id": "RLgTiwpINRok",
        "outputId": "06626c46-1fc7-40b3-afb9-ab4f17ca6899"
      },
      "execution_count": 15,
      "outputs": [
        {
          "output_type": "stream",
          "name": "stdout",
          "text": [
            "Digite um numero: 30\n",
            "O numero é maior que 30\n"
          ]
        }
      ]
    },
    {
      "cell_type": "code",
      "source": [
        "nota1 = float(input(\"Digite a primeira nota: \"))\n",
        "nota2 = float(input(\"Digite a segunda nota:\"))\n",
        "\n",
        "#Calcular a média aritmetica\n",
        "media = (nota1 + nota2)/2\n",
        "\n",
        "#Verifica se o aluno foi aprovado\n",
        "if media >= 7:\n",
        "  print(f\"O aluno foi aprovador! Média {media:.3f}\")\n",
        "#Verifica uma outra condição\n",
        "elif media >= 5:\n",
        "  print(f\"O aluno esta em recuperação! Media {media:.3f}\")\n",
        "#Verifica se o aluno foi reprovado\n",
        "else:\n",
        "  print(f\"O aluno foi reprovado! Média {media:.3f}\")"
      ],
      "metadata": {
        "colab": {
          "base_uri": "https://localhost:8080/"
        },
        "id": "yTrpHEZGPWuQ",
        "outputId": "bf3ea99b-305e-4600-c791-9c391d58a65a"
      },
      "execution_count": 19,
      "outputs": [
        {
          "output_type": "stream",
          "name": "stdout",
          "text": [
            "Digite a primeira nota: 6\n",
            "Digite a segunda nota:10\n",
            "O aluno foi aprovador! Média 8.000\n"
          ]
        }
      ]
    },
    {
      "cell_type": "code",
      "source": [
        "a = int(input(\"Digite um numero: \"))\n",
        "\n",
        "if a >= 50:\n",
        "  print(\"O número\", a,\"é maior ou igual a 50\")\n",
        "\n",
        "else:\n",
        "  print(f\"O numero {a:.2f} é menor que 50\")"
      ],
      "metadata": {
        "colab": {
          "base_uri": "https://localhost:8080/"
        },
        "id": "_iBBTc4cSggD",
        "outputId": "c3bef657-dbe0-416d-9159-3d2ee40ada13"
      },
      "execution_count": 23,
      "outputs": [
        {
          "output_type": "stream",
          "name": "stdout",
          "text": [
            "Digite um numero: 40\n",
            "O numero 40.00 é menor que 50\n"
          ]
        }
      ]
    }
  ]
}